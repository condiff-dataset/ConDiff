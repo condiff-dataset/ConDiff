{
 "cells": [
  {
   "cell_type": "code",
   "execution_count": null,
   "id": "03715f3f",
   "metadata": {},
   "outputs": [],
   "source": [
    "import jax.numpy as jnp\n",
    "import os\n",
    "import jax\n",
    "\n",
    "jax.config.update(\"jax_enable_x64\", True)\n",
    "jax.config.update('jax_platforms', 'cpu')\n",
    "os.environ[\"CUDA_VISIBLE_DEVICES\"] = ''\n",
    "os.environ[\"JAX_PLATFORMS\"] = 'cpu'\n",
    "\n",
    "from condiff import multiple_poisson, multiple_diffusion"
   ]
  },
  {
   "cell_type": "markdown",
   "id": "191c01a4",
   "metadata": {},
   "source": [
    "## Make dataset folder"
   ]
  },
  {
   "cell_type": "code",
   "execution_count": null,
   "id": "463831ca",
   "metadata": {},
   "outputs": [],
   "source": [
    "path = \n",
    "try:\n",
    "    os.mkdir(os.path.join(path, 'ConDiff'))\n",
    "except:\n",
    "    pass\n",
    "save_dir = os.path.join(path, 'ConDiff')"
   ]
  },
  {
   "cell_type": "markdown",
   "id": "bd7829e8",
   "metadata": {},
   "source": [
    "## Parameters"
   ]
  },
  {
   "cell_type": "code",
   "execution_count": null,
   "id": "181391e6",
   "metadata": {},
   "outputs": [],
   "source": [
    "# Parameters for Poisson and diffusion euqtions\n",
    "N_train = 1000\n",
    "N_test = 200\n",
    "grid_ls = [64, 128]\n",
    "\n",
    "# Parameters only for diffusion equation\n",
    "cov_model_ls = ['cubic', 'exponential', 'gaussian']\n",
    "boundaries_ls = [                                          # Contrast boundaries to control complexity\n",
    "    [[5, 15], [50, 250], [600, 1000], [80000, 100000]],\n",
    "    [[5, 15], [50, 250], [600, 1000], [80000, 100000]]\n",
    "]\n",
    "var_ls = [0.1, 0.4, 1.0, 2.0]"
   ]
  },
  {
   "cell_type": "markdown",
   "id": "2582ac4a",
   "metadata": {},
   "source": [
    "## Generate Poisson equation"
   ]
  },
  {
   "cell_type": "code",
   "execution_count": null,
   "id": "aa55e469",
   "metadata": {},
   "outputs": [],
   "source": [
    "multiple_poisson(save_dir, N_train, N_test, grid_ls, seed_rng=42)"
   ]
  },
  {
   "cell_type": "markdown",
   "id": "bb81c185",
   "metadata": {},
   "source": [
    "## Generate diffusion equation"
   ]
  },
  {
   "cell_type": "code",
   "execution_count": null,
   "id": "9aaaf637",
   "metadata": {},
   "outputs": [],
   "source": [
    "multiple_diffusion(save_dir, N_train, N_test,cov_model_ls=cov_model_ls, grid_ls=grid_ls,\n",
    "                   boundaries_ls=boundaries_ls, var_ls=var_ls, seed_global=42)"
   ]
  },
  {
   "cell_type": "code",
   "execution_count": null,
   "id": "05d26c68",
   "metadata": {},
   "outputs": [],
   "source": []
  }
 ],
 "metadata": {
  "kernelspec": {
   "display_name": "Python 3 (ipykernel)",
   "language": "python",
   "name": "python3"
  },
  "language_info": {
   "codemirror_mode": {
    "name": "ipython",
    "version": 3
   },
   "file_extension": ".py",
   "mimetype": "text/x-python",
   "name": "python",
   "nbconvert_exporter": "python",
   "pygments_lexer": "ipython3",
   "version": "3.10.6"
  }
 },
 "nbformat": 4,
 "nbformat_minor": 5
}
